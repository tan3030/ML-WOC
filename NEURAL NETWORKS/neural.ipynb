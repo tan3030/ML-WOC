{
  "cells": [
    {
      "cell_type": "markdown",
      "metadata": {
        "id": "SoQHHwNcnxvT"
      },
      "source": [
        "**TASK 1 (BINARY CLASSIFICATION)**"
      ]
    },
    {
      "cell_type": "code",
      "source": [
        "import numpy as np\n",
        "import pandas as pd\n",
        "import matplotlib.pyplot as plt\n",
        "\n",
        "dataset = pd.read_csv('nn_train.csv')\n",
        "split = 0.8\n",
        "s = int((dataset.values.shape[0])*split)\n",
        "x_data = dataset.values[:s,1:1025]\n",
        "y_data = dataset.values[:s,1025]\n",
        "x_cv = dataset.values[s:,1:1025]\n",
        "y_cv = dataset.values[s:,1025]\n",
        "\n",
        "dataset = pd.read_csv('nn_test.csv')\n",
        "x_test = dataset.values[:,1:1025]"
      ],
      "metadata": {
        "trusted": true,
        "execution": {
          "iopub.status.busy": "2025-01-01T20:19:53.054709Z",
          "iopub.execute_input": "2025-01-01T20:19:53.055122Z",
          "iopub.status.idle": "2025-01-01T20:20:04.657979Z",
          "shell.execute_reply.started": "2025-01-01T20:19:53.055095Z",
          "shell.execute_reply": "2025-01-01T20:20:04.657112Z"
        },
        "id": "vxgwqstZllif"
      },
      "outputs": [],
      "execution_count": 30
    },
    {
      "cell_type": "code",
      "source": [
        "\"\"\"\n",
        "#feature scaling method 1\n",
        "x_data/= x_data.max(axis=0)\n",
        "print(x_data)\n",
        "\"\"\""
      ],
      "metadata": {
        "colab": {
          "base_uri": "https://localhost:8080/",
          "height": 35
        },
        "id": "3FrMjL0eSt-x",
        "outputId": "fd12960d-1445-4e05-ea73-34a5e67011b0"
      },
      "execution_count": 2,
      "outputs": [
        {
          "output_type": "execute_result",
          "data": {
            "text/plain": [
              "'\\n#feature scaling method 1\\nx_data/= x_data.max(axis=0)\\nprint(x_data)\\n'"
            ],
            "application/vnd.google.colaboratory.intrinsic+json": {
              "type": "string"
            }
          },
          "metadata": {},
          "execution_count": 2
        }
      ]
    },
    {
      "cell_type": "code",
      "source": [
        "\"\"\"\n",
        "#feature scaling method 2\n",
        "x_data = (x_data - np.mean(x_data,axis = 0))/(x_data.max(axis=0)-x_data.min(axis=0))\n",
        "print(x_data)\n",
        "\"\"\""
      ],
      "metadata": {
        "id": "tmQLwyF2GyP0",
        "colab": {
          "base_uri": "https://localhost:8080/",
          "height": 52
        },
        "outputId": "0d159a50-f550-4011-f6e7-9826171bfbbf"
      },
      "execution_count": 3,
      "outputs": [
        {
          "output_type": "execute_result",
          "data": {
            "text/plain": [
              "'\\n#feature scaling method 2\\nx_data = (x_data - np.mean(x_data,axis = 0))/(x_data.max(axis=0)-x_data.min(axis=0))\\nprint(x_data)\\n'"
            ],
            "application/vnd.google.colaboratory.intrinsic+json": {
              "type": "string"
            }
          },
          "metadata": {},
          "execution_count": 3
        }
      ]
    },
    {
      "cell_type": "code",
      "source": [
        "\"\"\"\n",
        "\n",
        "#feature scaling method 3 (Z-Score)\n",
        "m = np.mean(x_data, axis = 0)\n",
        "s = np.std(x_data ,axis = 0)\n",
        "def f_scale3(x,m,s):\n",
        "    std=s\n",
        "    x_f=(x - m)/(std+1e-8)\n",
        "    return x_f\n",
        "x_data = f_scale3(x_data,m,s)\n",
        "x_cv = f_scale3(x_cv,m,s)\n",
        "x_test = f_scale3(x_test,m,s)\n",
        "print(x_data)\n",
        "\n",
        "\"\"\""
      ],
      "metadata": {
        "id": "jjppHP6Gwki4",
        "colab": {
          "base_uri": "https://localhost:8080/",
          "height": 70
        },
        "outputId": "fbda9db4-c3dd-41c8-bfa9-9e7ac6f1311e"
      },
      "execution_count": 4,
      "outputs": [
        {
          "output_type": "execute_result",
          "data": {
            "text/plain": [
              "'\\n\\n#feature scaling method 3 (Z-Score)\\nm = np.mean(x_data, axis = 0)\\ns = np.std(x_data ,axis = 0)\\ndef f_scale3(x,m,s):\\n    std=s\\n    x_f=(x - m)/(std+1e-8)\\n    return x_f\\nx_data = f_scale3(x_data,m,s)\\nx_cv = f_scale3(x_cv,m,s)\\nx_test = f_scale3(x_test,m,s)\\nprint(x_data)\\n\\n'"
            ],
            "application/vnd.google.colaboratory.intrinsic+json": {
              "type": "string"
            }
          },
          "metadata": {},
          "execution_count": 4
        }
      ]
    },
    {
      "cell_type": "code",
      "source": [
        "def sigmoid(Z):\n",
        "    A = 1/(1+np.exp(-Z))\n",
        "    cache = Z\n",
        "    return A, cache\n",
        "\n",
        "def sigmoid_backward(dA, cache):\n",
        "    Z = cache\n",
        "    s = 1/(1+np.exp(-Z))\n",
        "    dZ = dA * s * (1-s)\n",
        "    assert (dZ.shape == Z.shape)\n",
        "    return dZ"
      ],
      "metadata": {
        "trusted": true,
        "execution": {
          "iopub.status.busy": "2025-01-01T20:20:04.660070Z",
          "iopub.execute_input": "2025-01-01T20:20:04.660416Z",
          "iopub.status.idle": "2025-01-01T20:20:04.667845Z",
          "shell.execute_reply.started": "2025-01-01T20:20:04.660392Z",
          "shell.execute_reply": "2025-01-01T20:20:04.666831Z"
        },
        "id": "gRe8eUShllih"
      },
      "outputs": [],
      "execution_count": 5
    },
    {
      "cell_type": "code",
      "source": [
        "def relu(Z):\n",
        "    A = np.maximum(0,Z)\n",
        "    assert(A.shape == Z.shape)\n",
        "    cache = Z\n",
        "    return A, cache\n",
        "\n",
        "def relu_backward(dA, cache):\n",
        "    Z = cache\n",
        "    dZ = np.array(dA, copy=True)\n",
        "    dZ[Z <= 0] = 0\n",
        "    assert (dZ.shape == Z.shape)\n",
        "    return dZ"
      ],
      "metadata": {
        "id": "-FLifr99m2C-"
      },
      "execution_count": 6,
      "outputs": []
    },
    {
      "cell_type": "code",
      "source": [
        "def initialize_parameters(n_x, n_h, n_y):\n",
        "    np.random.seed(1)\n",
        "    W1 = np.random.randn(n_h,n_x) * 0.01\n",
        "    b1 = np.zeros((n_h,1))\n",
        "    W2 = np.random.randn(n_y,n_h) * 0.01\n",
        "    b2 = np.zeros((n_y,1))\n",
        "    assert(W1.shape == (n_h, n_x))\n",
        "    assert(b1.shape == (n_h, 1))\n",
        "    assert(W2.shape == (n_y, n_h))\n",
        "    assert(b2.shape == (n_y, 1))\n",
        "    return {\"W1\": W1,\"b1\": b1,\"W2\": W2,\"b2\": b2}"
      ],
      "metadata": {
        "trusted": true,
        "execution": {
          "iopub.status.busy": "2025-01-01T20:20:04.669574Z",
          "iopub.execute_input": "2025-01-01T20:20:04.669902Z",
          "iopub.status.idle": "2025-01-01T20:20:04.689909Z",
          "shell.execute_reply.started": "2025-01-01T20:20:04.669876Z",
          "shell.execute_reply": "2025-01-01T20:20:04.688939Z"
        },
        "id": "_AbjuGuVllii"
      },
      "outputs": [],
      "execution_count": 7
    },
    {
      "cell_type": "code",
      "source": [
        "def initialize_parameters_deep(layer_dims):\n",
        "    np.random.seed(3)\n",
        "    parameters = {}\n",
        "    L = len(layer_dims)\n",
        "    for l in range(1, L):\n",
        "        parameters['W' + str(l)] = np.random.randn(layer_dims[l],layer_dims[l-1]) * 0.01\n",
        "        parameters['b' + str(l)] = np.zeros((layer_dims[l],1))\n",
        "        assert(parameters['W' + str(l)].shape == (layer_dims[l], layer_dims[l-1]))\n",
        "        assert(parameters['b' + str(l)].shape == (layer_dims[l], 1))\n",
        "    return parameters"
      ],
      "metadata": {
        "trusted": true,
        "execution": {
          "iopub.status.busy": "2025-01-01T20:20:04.690931Z",
          "iopub.execute_input": "2025-01-01T20:20:04.691218Z",
          "iopub.status.idle": "2025-01-01T20:20:04.713578Z",
          "shell.execute_reply.started": "2025-01-01T20:20:04.691192Z",
          "shell.execute_reply": "2025-01-01T20:20:04.712565Z"
        },
        "id": "xwGq223gllii"
      },
      "outputs": [],
      "execution_count": 8
    },
    {
      "cell_type": "code",
      "source": [
        "def linear_forward(A, W, b):\n",
        "    Z = np.dot(W,A) + b\n",
        "    assert(Z.shape == (W.shape[0], A.shape[1]))\n",
        "    cache = (A, W, b)\n",
        "    return Z, cache"
      ],
      "metadata": {
        "trusted": true,
        "execution": {
          "iopub.status.busy": "2025-01-01T20:20:04.714658Z",
          "iopub.execute_input": "2025-01-01T20:20:04.715028Z",
          "iopub.status.idle": "2025-01-01T20:20:04.729980Z",
          "shell.execute_reply.started": "2025-01-01T20:20:04.714988Z",
          "shell.execute_reply": "2025-01-01T20:20:04.728856Z"
        },
        "id": "KzeEGAGXllij"
      },
      "outputs": [],
      "execution_count": 9
    },
    {
      "cell_type": "code",
      "source": [
        "def linear_activation_forward(A_prev, W, b, activation):\n",
        "    if activation == \"sigmoid\":\n",
        "        Z, linear_cache = linear_forward(A_prev, W, b) #\"linear_cache\" contains (A_prev, W, b)\n",
        "        A, activation_cache = sigmoid(Z) #\"activation_cache\" contains \"Z\"\n",
        "    elif activation == \"relu\":\n",
        "        Z, linear_cache = linear_forward(A_prev, W, b) #\"linear_cache\" contains (A_prev, W, b)\n",
        "        A, activation_cache = relu(Z) #\"activation_cache\" contains \"Z\"\n",
        "    assert (A.shape == (W.shape[0], A_prev.shape[1]))\n",
        "    cache = (linear_cache, activation_cache)\n",
        "    return A, cache"
      ],
      "metadata": {
        "trusted": true,
        "execution": {
          "iopub.status.busy": "2025-01-01T20:20:04.731059Z",
          "iopub.execute_input": "2025-01-01T20:20:04.731363Z",
          "iopub.status.idle": "2025-01-01T20:20:04.753376Z",
          "shell.execute_reply.started": "2025-01-01T20:20:04.731338Z",
          "shell.execute_reply": "2025-01-01T20:20:04.752330Z"
        },
        "id": "St4kWNGQllil"
      },
      "outputs": [],
      "execution_count": 10
    },
    {
      "cell_type": "code",
      "source": [
        "def L_model_forward(x, parameters):\n",
        "    caches = []\n",
        "    A = x\n",
        "    L = len(parameters) // 2 #no of layers\n",
        "    for l in range(1, L):\n",
        "        A_prev = A\n",
        "        A, cache = linear_activation_forward(A_prev, parameters['W' + str(l)], parameters['b' + str(l)], \"relu\")\n",
        "        caches.append(cache)\n",
        "    AL, cache = linear_activation_forward(A, parameters['W' + str(L)], parameters['b' + str(L)], \"sigmoid\")\n",
        "    caches.append(cache)\n",
        "    assert(AL.shape == (1,x.shape[1]))\n",
        "    return AL, caches"
      ],
      "metadata": {
        "trusted": true,
        "execution": {
          "iopub.status.busy": "2025-01-01T20:20:04.754460Z",
          "iopub.execute_input": "2025-01-01T20:20:04.754848Z",
          "iopub.status.idle": "2025-01-01T20:20:04.775723Z",
          "shell.execute_reply.started": "2025-01-01T20:20:04.754811Z",
          "shell.execute_reply": "2025-01-01T20:20:04.774577Z"
        },
        "id": "iW1u0rKullin"
      },
      "outputs": [],
      "execution_count": 11
    },
    {
      "cell_type": "code",
      "source": [
        "def compute_cost(AL, Y):\n",
        "    m = Y.shape[1]\n",
        "    cost = (-1/m) * (np.dot(Y, np.log(AL).T) + np.dot((1-Y), np.log(1-AL).T))\n",
        "    cost = np.squeeze(cost)\n",
        "    assert(cost.shape == ())\n",
        "    return cost"
      ],
      "metadata": {
        "trusted": true,
        "execution": {
          "iopub.status.busy": "2025-01-01T20:20:04.778770Z",
          "iopub.execute_input": "2025-01-01T20:20:04.779122Z",
          "iopub.status.idle": "2025-01-01T20:20:04.797637Z",
          "shell.execute_reply.started": "2025-01-01T20:20:04.779093Z",
          "shell.execute_reply": "2025-01-01T20:20:04.796607Z"
        },
        "id": "teT35e7Pllio"
      },
      "outputs": [],
      "execution_count": 12
    },
    {
      "cell_type": "code",
      "source": [
        "def linear_backward(dZ, cache):\n",
        "    #cache is \"linear_cache\" containing (A_prev, W, b) coming from the forward propagation in the current layer\n",
        "    A_prev, W, b = cache\n",
        "    m = A_prev.shape[1]\n",
        "    dW = (1/m) * np.dot(dZ, A_prev.T)\n",
        "    db = (1/m) * np.sum(dZ, axis=1, keepdims=True)\n",
        "    dA_prev = np.dot(W.T,dZ)\n",
        "    assert (dA_prev.shape == A_prev.shape)\n",
        "    assert (dW.shape == W.shape)\n",
        "    assert (db.shape == b.shape)\n",
        "    return dA_prev, dW, db"
      ],
      "metadata": {
        "trusted": true,
        "execution": {
          "iopub.status.busy": "2025-01-01T20:20:04.798877Z",
          "iopub.execute_input": "2025-01-01T20:20:04.799147Z",
          "iopub.status.idle": "2025-01-01T20:20:04.812877Z",
          "shell.execute_reply.started": "2025-01-01T20:20:04.799120Z",
          "shell.execute_reply": "2025-01-01T20:20:04.811633Z"
        },
        "id": "hcMa1EpRllip"
      },
      "outputs": [],
      "execution_count": 13
    },
    {
      "cell_type": "code",
      "source": [
        "def linear_activation_backward(dA, cache, activation):\n",
        "    linear_cache, activation_cache = cache\n",
        "    if activation == \"relu\":\n",
        "        dZ = relu_backward(dA, activation_cache)\n",
        "    elif activation == \"sigmoid\":\n",
        "        dZ = sigmoid_backward(dA, activation_cache)\n",
        "    dA_prev, dW, db = linear_backward(dZ, linear_cache)\n",
        "    return dA_prev, dW, db"
      ],
      "metadata": {
        "trusted": true,
        "execution": {
          "iopub.status.busy": "2025-01-01T20:20:04.813925Z",
          "iopub.execute_input": "2025-01-01T20:20:04.814416Z",
          "iopub.status.idle": "2025-01-01T20:20:04.829224Z",
          "shell.execute_reply.started": "2025-01-01T20:20:04.814382Z",
          "shell.execute_reply": "2025-01-01T20:20:04.828120Z"
        },
        "id": "40lMKrdTlliq"
      },
      "outputs": [],
      "execution_count": 14
    },
    {
      "cell_type": "code",
      "source": [
        "def L_model_backward(AL, Y, caches):\n",
        "    grads = {}\n",
        "    L = len(caches) # the number of layers\n",
        "    m = AL.shape[1]\n",
        "    Y = Y.reshape(AL.shape)\n",
        "    dAL = - (np.divide(Y, AL) - np.divide(1 - Y, 1 - AL))\n",
        "    current_cache = caches[L-1]\n",
        "    grads[\"dA\" + str(L-1)], grads[\"dW\" + str(L)], grads[\"db\" + str(L)] = linear_activation_backward(dAL, current_cache, \"sigmoid\")\n",
        "    for l in reversed(range(L-1)):\n",
        "        current_cache = caches[l]\n",
        "        dA_prev_temp, dW_temp, db_temp = linear_activation_backward(grads[\"dA\" + str(l + 1)], current_cache, activation = \"relu\")\n",
        "        grads[\"dA\" + str(l)] = dA_prev_temp\n",
        "        grads[\"dW\" + str(l + 1)] = dW_temp\n",
        "        grads[\"db\" + str(l + 1)] = db_temp\n",
        "    return grads"
      ],
      "metadata": {
        "trusted": true,
        "execution": {
          "iopub.status.busy": "2025-01-01T20:20:04.830224Z",
          "iopub.execute_input": "2025-01-01T20:20:04.830599Z",
          "iopub.status.idle": "2025-01-01T20:20:04.846085Z",
          "shell.execute_reply.started": "2025-01-01T20:20:04.830558Z",
          "shell.execute_reply": "2025-01-01T20:20:04.845037Z"
        },
        "id": "MKy1TBcDllir"
      },
      "outputs": [],
      "execution_count": 15
    },
    {
      "cell_type": "code",
      "source": [
        "def update_parameters(parameters, grads, learning_rate):\n",
        "    L = len(parameters) // 2\n",
        "    for l in range(L):\n",
        "        parameters[\"W\" + str(l+1)] = parameters[\"W\" + str(l+1)] - learning_rate * grads[\"dW\" + str(l+1)]\n",
        "        parameters[\"b\" + str(l+1)] = parameters[\"b\" + str(l+1)] - learning_rate * grads[\"db\" + str(l+1)]\n",
        "    return parameters"
      ],
      "metadata": {
        "trusted": true,
        "execution": {
          "iopub.status.busy": "2025-01-01T20:20:04.847287Z",
          "iopub.execute_input": "2025-01-01T20:20:04.847676Z",
          "iopub.status.idle": "2025-01-01T20:20:04.865493Z",
          "shell.execute_reply.started": "2025-01-01T20:20:04.847639Z",
          "shell.execute_reply": "2025-01-01T20:20:04.864452Z"
        },
        "id": "mO8deSUdllir"
      },
      "outputs": [],
      "execution_count": 21
    },
    {
      "cell_type": "code",
      "source": [
        "def L_layer_model(x, Y, layers_dims, learning_rate = 0.0075, num_iterations = 500, print_cost=False):\n",
        "    np.random.seed(1)\n",
        "    costs = []\n",
        "    parameters = initialize_parameters_deep(layers_dims)\n",
        "    for i in range(0, num_iterations):\n",
        "        AL, caches = L_model_forward(x, parameters)\n",
        "        cost = compute_cost(AL, Y)\n",
        "        grads = L_model_backward(AL, Y, caches)\n",
        "        parameters = update_parameters(parameters, grads, learning_rate)\n",
        "        if print_cost and i % 100 == 0:\n",
        "            print (\"Cost after iteration %i: %f\" %(i, cost))\n",
        "        if print_cost and i % 100 == 0:\n",
        "            costs.append(cost)\n",
        "    plt.plot(np.squeeze(costs))\n",
        "    plt.ylabel('cost')\n",
        "    plt.xlabel('iterations (per hundreds)')\n",
        "    plt.title(\"Learning rate =\" + str(learning_rate))\n",
        "    plt.show()\n",
        "    return parameters"
      ],
      "metadata": {
        "trusted": true,
        "execution": {
          "iopub.status.busy": "2025-01-01T20:20:04.866711Z",
          "iopub.execute_input": "2025-01-01T20:20:04.867126Z",
          "iopub.status.idle": "2025-01-01T20:20:04.889194Z",
          "shell.execute_reply.started": "2025-01-01T20:20:04.867089Z",
          "shell.execute_reply": "2025-01-01T20:20:04.888029Z"
        },
        "id": "TnUA-Vj7llis"
      },
      "outputs": [],
      "execution_count": 22
    },
    {
      "cell_type": "code",
      "source": [
        "layers_dims = [1024, 128, 64, 32, 1]\n",
        "y_data = y_data.reshape(-1,1)\n",
        "x_data=x_data.T\n",
        "y_data=y_data.T\n",
        "parameters = L_layer_model(x_data, y_data, layers_dims, num_iterations = 1000, print_cost = True)"
      ],
      "metadata": {
        "trusted": true,
        "execution": {
          "iopub.status.busy": "2025-01-01T20:21:58.374177Z",
          "iopub.execute_input": "2025-01-01T20:21:58.374582Z",
          "iopub.status.idle": "2025-01-01T20:26:48.975479Z",
          "shell.execute_reply.started": "2025-01-01T20:21:58.374510Z",
          "shell.execute_reply": "2025-01-01T20:26:48.974276Z"
        },
        "id": "C-yg3gymlliu",
        "outputId": "51f78a4d-0393-43b3-eb12-14c0a41c2a1e",
        "colab": {
          "base_uri": "https://localhost:8080/",
          "height": 646
        }
      },
      "outputs": [
        {
          "output_type": "stream",
          "name": "stdout",
          "text": [
            "Cost after iteration 0: 0.693351\n",
            "Cost after iteration 100: 0.691967\n",
            "Cost after iteration 200: 0.687748\n",
            "Cost after iteration 300: 0.665371\n",
            "Cost after iteration 400: 0.643991\n",
            "Cost after iteration 500: 0.631013\n",
            "Cost after iteration 600: 0.604902\n",
            "Cost after iteration 700: 0.746709\n",
            "Cost after iteration 800: 0.605140\n",
            "Cost after iteration 900: 0.557316\n"
          ]
        },
        {
          "output_type": "display_data",
          "data": {
            "text/plain": [
              "<Figure size 640x480 with 1 Axes>"
            ],
            "image/png": "[encoded data removed]"
          },
          "metadata": {}
        }
      ],
      "execution_count": 23
    },
    {
      "cell_type": "code",
      "source": [
        "y_data.shape"
      ],
      "metadata": {
        "trusted": true,
        "execution": {
          "iopub.status.busy": "2025-01-01T20:20:32.816553Z",
          "iopub.execute_input": "2025-01-01T20:20:32.816890Z",
          "iopub.status.idle": "2025-01-01T20:20:32.822832Z",
          "shell.execute_reply.started": "2025-01-01T20:20:32.816864Z",
          "shell.execute_reply": "2025-01-01T20:20:32.821828Z"
        },
        "id": "0pH8FCuWlliu",
        "outputId": "1025cde5-94c9-4c8e-e531-4fd7f3b93622",
        "colab": {
          "base_uri": "https://localhost:8080/"
        }
      },
      "outputs": [
        {
          "output_type": "execute_result",
          "data": {
            "text/plain": [
              "(1, 911)"
            ]
          },
          "metadata": {},
          "execution_count": 24
        }
      ],
      "execution_count": 24
    },
    {
      "cell_type": "code",
      "source": [
        "x_data.shape"
      ],
      "metadata": {
        "trusted": true,
        "execution": {
          "iopub.status.busy": "2025-01-01T20:20:32.823724Z",
          "iopub.execute_input": "2025-01-01T20:20:32.824075Z",
          "iopub.status.idle": "2025-01-01T20:20:32.843921Z",
          "shell.execute_reply.started": "2025-01-01T20:20:32.824039Z",
          "shell.execute_reply": "2025-01-01T20:20:32.842707Z"
        },
        "id": "UVsNKCTWlliv",
        "outputId": "98a08557-cc8e-4d86-f4f6-54a2c685763b",
        "colab": {
          "base_uri": "https://localhost:8080/"
        }
      },
      "outputs": [
        {
          "output_type": "execute_result",
          "data": {
            "text/plain": [
              "(1024, 911)"
            ]
          },
          "metadata": {},
          "execution_count": 25
        }
      ],
      "execution_count": 25
    },
    {
      "cell_type": "code",
      "source": [
        "def predict(x, y, parameters):\n",
        "    m = x.shape[1]\n",
        "    n = len(parameters) // 2\n",
        "    p = np.zeros((1,m))\n",
        "    probas, caches = L_model_forward(x, parameters)\n",
        "    for i in range(0, probas.shape[1]):\n",
        "        if probas[0,i] > 0.5:\n",
        "            p[0,i] = 1\n",
        "        else:\n",
        "            p[0,i] = 0\n",
        "    print(\"Accuracy: \"  + str(np.sum((p == y)/m)))\n",
        "    return p"
      ],
      "metadata": {
        "trusted": true,
        "execution": {
          "iopub.status.busy": "2025-01-01T20:21:53.515928Z",
          "iopub.execute_input": "2025-01-01T20:21:53.516344Z",
          "iopub.status.idle": "2025-01-01T20:21:53.522968Z",
          "shell.execute_reply.started": "2025-01-01T20:21:53.516316Z",
          "shell.execute_reply": "2025-01-01T20:21:53.521644Z"
        },
        "id": "IeH_nPKalliv"
      },
      "outputs": [],
      "execution_count": 26
    },
    {
      "cell_type": "code",
      "source": [
        "pred_train = predict(x_data, y_data, parameters)"
      ],
      "metadata": {
        "trusted": true,
        "execution": {
          "iopub.status.busy": "2025-01-01T20:26:55.574225Z",
          "iopub.execute_input": "2025-01-01T20:26:55.574652Z",
          "iopub.status.idle": "2025-01-01T20:26:55.698847Z",
          "shell.execute_reply.started": "2025-01-01T20:26:55.574616Z",
          "shell.execute_reply": "2025-01-01T20:26:55.696230Z"
        },
        "id": "rHEwTXMmlliv",
        "outputId": "d2547db5-7fa9-48b8-c573-dff4ad7bcb34",
        "colab": {
          "base_uri": "https://localhost:8080/"
        }
      },
      "outputs": [
        {
          "output_type": "stream",
          "name": "stdout",
          "text": [
            "Accuracy: 0.7266739846322722\n"
          ]
        }
      ],
      "execution_count": 27
    },
    {
      "cell_type": "code",
      "source": [
        "x_cv=x_cv.T\n",
        "y_cv = y_cv.reshape(-1,1)\n",
        "y_cv=y_cv.T\n",
        "pred_test = predict(x_cv, y_cv, parameters)"
      ],
      "metadata": {
        "trusted": true,
        "execution": {
          "iopub.status.busy": "2025-01-01T20:29:28.210915Z",
          "iopub.execute_input": "2025-01-01T20:29:28.211261Z",
          "iopub.status.idle": "2025-01-01T20:29:28.320136Z",
          "shell.execute_reply.started": "2025-01-01T20:29:28.211236Z",
          "shell.execute_reply": "2025-01-01T20:29:28.318394Z"
        },
        "id": "ouL_re-6lliw",
        "outputId": "73b786f5-5aaf-40a6-df86-30786e8390e4",
        "colab": {
          "base_uri": "https://localhost:8080/"
        }
      },
      "outputs": [
        {
          "output_type": "stream",
          "name": "stdout",
          "text": [
            "Accuracy: 0.6271929824561403\n"
          ]
        }
      ],
      "execution_count": 28
    },
    {
      "cell_type": "code",
      "source": [
        "def predictt(x, parameters):\n",
        "    probas, caches = L_model_forward(x,parameters)\n",
        "    y_preds = (probas>0.5).astype(int)\n",
        "    return y_preds"
      ],
      "metadata": {
        "trusted": true,
        "execution": {
          "iopub.status.busy": "2025-01-01T20:29:27.183342Z",
          "iopub.execute_input": "2025-01-01T20:29:27.183768Z",
          "iopub.status.idle": "2025-01-01T20:29:27.188497Z",
          "shell.execute_reply.started": "2025-01-01T20:29:27.183736Z",
          "shell.execute_reply": "2025-01-01T20:29:27.187307Z"
        },
        "id": "1tqjFOKQlliw"
      },
      "outputs": [],
      "execution_count": 32
    },
    {
      "cell_type": "code",
      "source": [
        "x_test = x_test.T\n",
        "y_test_pred = predictt(x_test, parameters)\n",
        "print(y_test_pred)"
      ],
      "metadata": {
        "trusted": true,
        "id": "p25GLNaollix",
        "colab": {
          "base_uri": "https://localhost:8080/"
        },
        "outputId": "0d18d805-9742-4ada-a91a-53d94c168beb"
      },
      "outputs": [
        {
          "output_type": "stream",
          "name": "stdout",
          "text": [
            "[[1 1 0 ... 0 0 0]]\n"
          ]
        }
      ],
      "execution_count": 34
    },
    {
      "cell_type": "code",
      "source": [
        "y_test_pred = y_test_pred.flatten()\n",
        "y_test_pred_df = pd.DataFrame(y_test_pred, columns=[\"Predicted\"])\n",
        "y_test_pred_df.to_csv(\"y_test_pred.csv\", index=False)\n",
        "\n",
        "print(\"Predictions saved to 'y_test_pred.csv'.\")"
      ],
      "metadata": {
        "id": "nWhaloVHlh7Y",
        "outputId": "181f8821-26e8-47ec-f9d1-420ef85fad22",
        "colab": {
          "base_uri": "https://localhost:8080/"
        }
      },
      "execution_count": 36,
      "outputs": [
        {
          "output_type": "stream",
          "name": "stdout",
          "text": [
            "Predictions saved to 'y_test_pred.csv'.\n"
          ]
        }
      ]
    },
    {
      "cell_type": "code",
      "source": [],
      "metadata": {
        "id": "_KDA2Eo9mQdB"
      },
      "execution_count": null,
      "outputs": []
    }
  ],
  "metadata": {
    "colab": {
      "provenance": []
    },
    "kernelspec": {
      "display_name": "Python 3",
      "name": "python3"
    },
    "language_info": {
      "name": "python"
    }
  },
  "nbformat": 4,
  "nbformat_minor": 0
}