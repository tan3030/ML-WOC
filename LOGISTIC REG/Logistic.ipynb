{
  "nbformat": 4,
  "nbformat_minor": 0,
  "metadata": {
    "colab": {
      "provenance": [],
      "cell_execution_strategy": "setup"
    },
    "kernelspec": {
      "name": "python3",
      "display_name": "Python 3"
    },
    "language_info": {
      "name": "python"
    }
  },
  "cells": [
    {
      "cell_type": "markdown",
      "source": [
        "###                                                         LOGISTIC REGRESSION"
      ],
      "metadata": {
        "id": "oa5-RyyyunLf"
      }
    },
    {
      "cell_type": "code",
      "execution_count": null,
      "metadata": {
        "id": "uXNyUCmbuKkJ"
      },
      "outputs": [],
      "source": [
        "import numpy as np\n",
        "import matplotlib.pyplot as plt\n",
        "import math\n",
        "import pandas as pd\n",
        "\n",
        "dataset = pd.read_csv('binary_classification_train.csv')\n",
        "dataset.head()\n",
        "split = 0.8\n",
        "s = int((dataset.values.shape[0])*split)\n",
        "x_data = dataset.values[:s,1:21]\n",
        "y_data = dataset.values[:s,21]\n",
        "x_cv = dataset.values[s:,1:21]\n",
        "y_cv = dataset.values[s:,21]\n",
        "\n",
        "dataset = pd.read_csv('binary_classification_test.csv')\n",
        "x_test = dataset.values[:,1:21]\n",
        "\n",
        "w_i = np.zeros((20,))\n",
        "b_i= 0"
      ]
    },
    {
      "cell_type": "code",
      "source": [
        "\"\"\"\n",
        "#feature scaling method 1\n",
        "x_data/= x_data.max(axis=0)\n",
        "print(x_data)\n",
        "\"\"\""
      ],
      "metadata": {
        "colab": {
          "base_uri": "https://localhost:8080/",
          "height": 35
        },
        "id": "RaqvIxsWmRj2",
        "outputId": "6cd4b7ca-40cd-449c-9773-d533f97f69f0"
      },
      "execution_count": null,
      "outputs": [
        {
          "output_type": "execute_result",
          "data": {
            "text/plain": [
              "'\\n#feature scaling method 1\\nx_data/= x_data.max(axis=0)\\nprint(x_data)\\n'"
            ],
            "application/vnd.google.colaboratory.intrinsic+json": {
              "type": "string"
            }
          },
          "metadata": {},
          "execution_count": 2
        }
      ]
    },
    {
      "cell_type": "code",
      "source": [
        "\"\"\"\n",
        "#feature scaling method 2\n",
        "x_data = (x_data - np.mean(x_data,axis = 0))/(x_data.max(axis=0)-x_data.min(axis=0))\n",
        "print(x_data)\n",
        "\"\"\""
      ],
      "metadata": {
        "colab": {
          "base_uri": "https://localhost:8080/",
          "height": 52
        },
        "id": "XTt3e9GPp3P1",
        "outputId": "a3574951-0e28-4f9b-f70d-f4a363265322"
      },
      "execution_count": null,
      "outputs": [
        {
          "output_type": "execute_result",
          "data": {
            "text/plain": [
              "'\\n#feature scaling method 2\\nx_data = (x_data - np.mean(x_data,axis = 0))/(x_data.max(axis=0)-x_data.min(axis=0))\\nprint(x_data)\\n'"
            ],
            "application/vnd.google.colaboratory.intrinsic+json": {
              "type": "string"
            }
          },
          "metadata": {},
          "execution_count": 3
        }
      ]
    },
    {
      "cell_type": "code",
      "source": [
        "#feature scaling method 3 (Z-Score)\n",
        "m = np.mean(x_data, axis = 0)\n",
        "s = np.std(x_data ,axis = 0)\n",
        "def f_scale3(x,m,s):\n",
        "    std=s\n",
        "    x_f=(x - m)/(std+1e-8)\n",
        "    return x_f\n",
        "x_data = f_scale3(x_data,m,s)\n",
        "x_cv = f_scale3(x_cv,m,s)\n",
        "x_test = f_scale3(x_test,m,s)\n",
        "print(x_data)"
      ],
      "metadata": {
        "colab": {
          "base_uri": "https://localhost:8080/"
        },
        "id": "rEBSRx0TmR24",
        "outputId": "aa9d4cba-1660-494b-b8a9-2d3c2f182db2"
      },
      "execution_count": null,
      "outputs": [
        {
          "output_type": "stream",
          "name": "stdout",
          "text": [
            "[[-0.90092605  1.593217   -0.1171581  ...  0.86704215  1.20200117\n",
            "   0.26287816]\n",
            " [-2.32079226  2.33865969 -0.05397053 ... -1.39623189 -1.69598448\n",
            "  -2.02424122]\n",
            " [ 0.40812232  0.52079392  0.37378359 ...  0.74293461  0.54703325\n",
            "  -0.38232476]\n",
            " ...\n",
            " [ 0.17197558 -1.15208704 -1.02700234 ... -0.04596711 -0.95446479\n",
            "   0.06442502]\n",
            " [-1.14323296  1.00395283  1.37361731 ... -0.65036336  0.54600408\n",
            "  -2.26704984]\n",
            " [-0.00479178  0.66169641 -0.55624392 ... -0.38249938  0.56237751\n",
            "   2.35915034]]\n"
          ]
        }
      ]
    },
    {
      "cell_type": "code",
      "source": [
        "def sigmoid(z):\n",
        "    return 1/(1+ np.exp(-z))"
      ],
      "metadata": {
        "id": "24QhBs6oBJZ1"
      },
      "execution_count": null,
      "outputs": []
    },
    {
      "cell_type": "code",
      "source": [
        "def cost_reg(x, y, w, b, lambdaa):\n",
        "    m = x.shape[0]\n",
        "    z = np.dot(x, w) + b\n",
        "    fwb = sigmoid(z)\n",
        "    cost = -np.mean(y*np.log(fwb) + (1 - y)*np.log(1 - fwb)) + (lambdaa/(2*m))*np.sum(w**2)\n",
        "    return cost"
      ],
      "metadata": {
        "id": "gCGu0foAC-Qk"
      },
      "execution_count": null,
      "outputs": []
    },
    {
      "cell_type": "code",
      "source": [
        "def grad(x, y, w, b, lambdaa):\n",
        "    m,n = x.shape\n",
        "    z=np.dot(x,w)+b\n",
        "    fwb = np.array(sigmoid(z))\n",
        "    djdw = (np.dot(x.T, (fwb - y)) / m) + (lambdaa / m) *w\n",
        "    djdb = np.sum(fwb - y) / m\n",
        "    return djdw, djdb"
      ],
      "metadata": {
        "id": "dKIqeFsY7s9R"
      },
      "execution_count": null,
      "outputs": []
    },
    {
      "cell_type": "code",
      "source": [
        "def grad_descent(x, y, w_inp, b_inp, alpha, iterns, cost_fn, gradient, lambdaa):\n",
        "    j_all = []\n",
        "    w = w_inp\n",
        "    b = b_inp\n",
        "    for i in range(iterns):\n",
        "        djdw, djdb = gradient(x, y, w, b, lambdaa)\n",
        "        w -= alpha * djdw\n",
        "        b -= alpha * djdb\n",
        "        if i<100000:\n",
        "            j_all.append(cost_fn(x, y, w, b, lambdaa))\n",
        "        if i% math.ceil(iterns/10) == 0 or i == (iterns-1):\n",
        "            print(f\"Iterations:{i} Cost:{j_all[-1]:8.4f}\")\n",
        "    return w, b, j_all\n",
        "\n",
        "iterations =500\n",
        "alpha = 10**(-0.45)\n",
        "lambdaa = 1\n",
        "w_f, b_f, J_list = grad_descent(x_data, y_data, w_i, b_i, alpha, iterations, cost_reg, grad, lambdaa)\n",
        "print(f\"final (w,b) using gradient descent: {w_f},{b_f:8.4f}\")\n",
        "print(f'Cost using parameters found: {cost_reg(x_data, y_data, w_i, b_i,lambdaa)}')"
      ],
      "metadata": {
        "id": "FRqid97xAhPo",
        "colab": {
          "base_uri": "https://localhost:8080/"
        },
        "outputId": "e1a714c7-2f58-4052-a33f-37bff2c62b8f"
      },
      "execution_count": null,
      "outputs": [
        {
          "output_type": "stream",
          "name": "stdout",
          "text": [
            "Iterations:0 Cost:  0.5902\n",
            "Iterations:50 Cost:  0.2602\n",
            "Iterations:100 Cost:  0.2523\n",
            "Iterations:150 Cost:  0.2508\n",
            "Iterations:200 Cost:  0.2504\n",
            "Iterations:250 Cost:  0.2503\n",
            "Iterations:300 Cost:  0.2502\n",
            "Iterations:350 Cost:  0.2502\n",
            "Iterations:400 Cost:  0.2502\n",
            "Iterations:450 Cost:  0.2502\n",
            "Iterations:499 Cost:  0.2502\n",
            "final (w,b) using gradient descent: [ 0.02422878 -0.014737   -0.01589522 -0.74347203 -0.0890122   1.662019\n",
            "  0.03830569  0.0578473   0.27543106  0.10161849  0.03410803 -0.12981355\n",
            "  0.01253368  0.30918496  0.68523038 -0.5272509   0.86573416 -0.44068786\n",
            " -0.29651608  0.05281172], -1.3389\n",
            "Cost using parameters found: 0.3238097154923779\n"
          ]
        }
      ]
    },
    {
      "cell_type": "code",
      "source": [
        "fig, (ax1, ax2) = plt.subplots(1, 2, constrained_layout=True, figsize=(12,4))\n",
        "ax1.plot(J_list[:300])\n",
        "ax1.set_title(\"Cost vs. iteration(start)\")\n",
        "ax1.set_xlabel('iteration step')\n",
        "ax1.set_ylabel('Cost')\n",
        "ax2.plot(300 + np.arange(len(J_list[300:])), J_list[300:])\n",
        "ax2.set_title(\"Cost vs. iteration (end)\")\n",
        "ax2.set_xlabel('iteration step')\n",
        "ax2.set_ylabel('Cost')\n",
        "plt.show()"
      ],
      "metadata": {
        "id": "e09gEjnhOlAZ",
        "colab": {
          "base_uri": "https://localhost:8080/",
          "height": 308
        },
        "outputId": "f4e4cdb3-5bc3-4ca3-e75d-bbc3bf197a1f"
      },
      "execution_count": null,
      "outputs": [
        {
          "output_type": "display_data",
          "data": {
            "text/plain": [
              "<Figure size 1200x400 with 2 Axes>"
            ],
            "image/png": "[encoded data removed]"
          },
          "metadata": {}
        }
      ]
    },
    {
      "cell_type": "code",
      "source": [
        "def f1_score(y_pred, y_true):\n",
        "    tp = np.sum((y_true == 1) & (y_pred == 1))\n",
        "    fp = np.sum((y_true == 0) & (y_pred == 1))\n",
        "    fn = np.sum((y_true == 1) & (y_pred == 0))\n",
        "\n",
        "    precision = tp / (tp + fp) if (tp + fp) > 0 else 0\n",
        "    recall = tp / (tp + fn) if (tp + fn) > 0 else 0\n",
        "\n",
        "    if precision + recall == 0:\n",
        "        return 0\n",
        "    f1 = 2 * (precision * recall) / (precision + recall)\n",
        "    return f1"
      ],
      "metadata": {
        "id": "zKGZ3dtayWye"
      },
      "execution_count": null,
      "outputs": []
    },
    {
      "cell_type": "code",
      "source": [
        "def prediction(x, w, b):\n",
        "    z = np.dot(x, w) + b\n",
        "    fwb = sigmoid(z)\n",
        "    return (fwb>0.5).astype(int)\n",
        "p = prediction(x_cv, w_f, b_f)\n",
        "\n",
        "print(\"Accuracy:\", np.mean(p==y_cv)*100)\n",
        "print(\"F1 score:\", f1_score(p,y_cv))\n",
        "\n",
        "test_pred = prediction(x_test, w_f, b_f)\n",
        "print(test_pred)"
      ],
      "metadata": {
        "id": "jlxvXaYvbJN1",
        "colab": {
          "base_uri": "https://localhost:8080/"
        },
        "outputId": "ede5773d-36dc-46cd-e353-7fe961e8043b"
      },
      "execution_count": null,
      "outputs": [
        {
          "output_type": "stream",
          "name": "stdout",
          "text": [
            "Accuracy: 93.00827966881324\n",
            "F1 score: 0.8901903367496339\n",
            "[0 0 0 ... 0 0 0]\n"
          ]
        }
      ]
    },
    {
      "cell_type": "code",
      "source": [
        "y_test_pred_df = pd.DataFrame(test_pred, columns=[\"Predicted\"])\n",
        "y_test_pred_df.to_csv(\"y_test_pred.csv\", index=False)\n",
        "\n",
        "print(\"Predictions saved to 'y_test_pred.csv'.\")"
      ],
      "metadata": {
        "id": "I_NHmDuSj6SD",
        "colab": {
          "base_uri": "https://localhost:8080/"
        },
        "outputId": "ce39ce93-2ee9-4163-8fab-e6c613014a1b"
      },
      "execution_count": null,
      "outputs": [
        {
          "output_type": "stream",
          "name": "stdout",
          "text": [
            "Predictions saved to 'y_test_pred.csv'.\n"
          ]
        }
      ]
    },
    {
      "cell_type": "code",
      "source": [],
      "metadata": {
        "id": "yr9BEC27v5k_"
      },
      "execution_count": null,
      "outputs": []
    }
  ]
}